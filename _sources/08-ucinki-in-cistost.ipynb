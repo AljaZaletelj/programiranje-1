{
 "cells": [
  {
   "cell_type": "markdown",
   "metadata": {},
   "source": [
    "# Učinki in čistost"
   ]
  },
  {
   "cell_type": "code",
   "execution_count": 1,
   "metadata": {
    "tags": [
     "remove-cell",
     "remove-stdout"
    ]
   },
   "outputs": [],
   "source": [
    "(* Ko se v Jupytru prvič požene OCaml, program Findlib izpiše neko sporočilo.\n",
    "   Da se to sporočilo ne bi videlo v zapiskih, je tu ta celica, ki sproži izpis,\n",
    "   vendar ima nastavljeno, da je v zapiskih v celoti skrita. *)"
   ]
  },
  {
   "cell_type": "markdown",
   "metadata": {},
   "source": [
    "Računalniške funkcije so podobne matematičnim v tem, da iz vhodnih vrednosti izračunajo izhodno, vendar se tu podobnost neha. Računalniške funkcije dajo lahko ob enakih vhodih tudi različne izhodne vrednosti, poleg izračuna vrednosti pa včasih še kaj izpišejo na zaslon, preberejo s tipkovnice, sprožijo izjeme, spreminjajo datoteke, pošiljajo podatke in podobno. Vsem odklonom od čistih matematični vrednosti pravimo _stranski_ ali _računski učinki_.\n",
    "\n",
    "## Učinki v OCamlu\n",
    "\n",
    "Poglejmo si nekaj primerov takih funkcij v OCamlu. Prva (in zelo pogosto uporabljana) je `print_endline`, ki sprejme niz ter ga izpiše na zaslon in vrne prazen nabor. V splošnem nam prisotnost tipa `unit` v OCamlu sporoča, da se bodo sprožili stranski učinki, saj sicer funkcija, ki bi vrnila `unit`, ne bi storila ničesar koristnega."
   ]
  },
  {
   "cell_type": "code",
   "execution_count": 2,
   "metadata": {},
   "outputs": [
    {
     "data": {
      "text/plain": [
       "- : string -> unit = <fun>\n"
      ]
     },
     "execution_count": 2,
     "metadata": {},
     "output_type": "execute_result"
    }
   ],
   "source": [
    "print_endline"
   ]
  },
  {
   "cell_type": "code",
   "execution_count": 3,
   "metadata": {},
   "outputs": [
    {
     "data": {
      "text/plain": [
       "- : unit = ()\n"
      ]
     },
     "execution_count": 3,
     "metadata": {},
     "output_type": "execute_result"
    }
   ],
   "source": [
    "print_endline \"Hello, world!\""
   ]
  },
  {
   "cell_type": "markdown",
   "metadata": {},
   "source": [
    "Pri klicu funkcij z učinki je včasih uporabna tudi funkcija `List.iter`, ki dano funkcijo pokliče na vseh elementih seznama. Podobna je funkciji `List.map`, le da seznam vrnjenih praznih naborov zavrže, saj ga redkokdaj uporabljamo."
   ]
  },
  {
   "cell_type": "code",
   "execution_count": 4,
   "metadata": {},
   "outputs": [
    {
     "name": "stdout",
     "output_type": "stream",
     "text": [
      "am\n"
     ]
    },
    {
     "name": "stdout",
     "output_type": "stream",
     "text": [
      "bam\n"
     ]
    },
    {
     "name": "stdout",
     "output_type": "stream",
     "text": [
      "pet\n"
     ]
    },
    {
     "name": "stdout",
     "output_type": "stream",
     "text": [
      "podgan\n"
     ]
    },
    {
     "data": {
      "text/plain": [
       "- : unit list = [(); (); (); ()]\n"
      ]
     },
     "execution_count": 4,
     "metadata": {},
     "output_type": "execute_result"
    }
   ],
   "source": [
    "List.map print_endline [\"am\"; \"bam\"; \"pet\"; \"podgan\"]"
   ]
  },
  {
   "cell_type": "code",
   "execution_count": 5,
   "metadata": {},
   "outputs": [
    {
     "name": "stdout",
     "output_type": "stream",
     "text": [
      "am\n"
     ]
    },
    {
     "name": "stdout",
     "output_type": "stream",
     "text": [
      "bam\n"
     ]
    },
    {
     "name": "stdout",
     "output_type": "stream",
     "text": [
      "pet\n"
     ]
    },
    {
     "name": "stdout",
     "output_type": "stream",
     "text": [
      "podgan\n"
     ]
    },
    {
     "data": {
      "text/plain": [
       "- : unit = ()\n"
      ]
     },
     "execution_count": 5,
     "metadata": {},
     "output_type": "execute_result"
    }
   ],
   "source": [
    "List.iter print_endline [\"am\"; \"bam\"; \"pet\"; \"podgan\"]"
   ]
  },
  {
   "cell_type": "markdown",
   "metadata": {},
   "source": [
    "Za delo z psevdonaključnimi vrednostmi je na voljo knjižnica `Random`. Pogosto uporabljani funkciji tam sta `Random.bool`, ki ob vsakem klicu vrne naključno logično vrednost, in `Random.int`, ki za neko število $m$ vrne naključno celo število med 0 in $m - 1$. Pri uporabi psevdonaključnih števil moramo paziti, da na začetku nastavimo ustrezno seme, saj sicer OCaml vedno začne z enakim. Na primer, spodnji klic bo ob prvem klicu vedno vrnil število 9344."
   ]
  },
  {
   "cell_type": "code",
   "execution_count": 6,
   "metadata": {},
   "outputs": [
    {
     "data": {
      "text/plain": [
       "- : int = 9344\n"
      ]
     },
     "execution_count": 6,
     "metadata": {},
     "output_type": "execute_result"
    }
   ],
   "source": [
    "Random.int 100000"
   ]
  },
  {
   "cell_type": "markdown",
   "metadata": {},
   "source": [
    "Seme lahko najbolj enostavno nastavimo z `Random.self_init`, ki ga nastavi glede na trenuten čas, stanje procesov, …, skratka dovolj naključno."
   ]
  },
  {
   "cell_type": "code",
   "execution_count": 7,
   "metadata": {},
   "outputs": [
    {
     "data": {
      "text/plain": [
       "- : unit = ()\n"
      ]
     },
     "execution_count": 7,
     "metadata": {},
     "output_type": "execute_result"
    }
   ],
   "source": [
    "Random.self_init ()"
   ]
  },
  {
   "cell_type": "code",
   "execution_count": 8,
   "metadata": {},
   "outputs": [
    {
     "data": {
      "text/plain": [
       "- : int = 11698\n"
      ]
     },
     "execution_count": 8,
     "metadata": {},
     "output_type": "execute_result"
    }
   ],
   "source": [
    "Random.int 100000 (* tu je nemogoče napovedati, kaj bo klic vrnil *)"
   ]
  },
  {
   "cell_type": "markdown",
   "metadata": {},
   "source": [
    "Za branje s konzole uporabimo funkcijo `read_line`."
   ]
  },
  {
   "cell_type": "code",
   "execution_count": 9,
   "metadata": {},
   "outputs": [
    {
     "data": {
      "text/plain": [
       "- : unit -> string = <fun>\n"
      ]
     },
     "execution_count": 9,
     "metadata": {},
     "output_type": "execute_result"
    }
   ],
   "source": [
    "read_line"
   ]
  },
  {
   "cell_type": "markdown",
   "metadata": {},
   "source": [
    "Tudi tu nam prisotnost tipa `unit` nakazuje, da se bodo najverjetneje zgodili učinki, saj bi funkcija samo iz praznega nabora težko izračunala kakšno zanimivo vrednost. Žal v učbeniku te funkcije ne moremo smiselno poklicati."
   ]
  },
  {
   "cell_type": "code",
   "execution_count": 10,
   "metadata": {},
   "outputs": [
    {
     "data": {
      "text/plain": [
       "- : exn -> 'a = <fun>\n"
      ]
     },
     "execution_count": 10,
     "metadata": {},
     "output_type": "execute_result"
    }
   ],
   "source": [
    "raise"
   ]
  },
  {
   "cell_type": "markdown",
   "metadata": {},
   "source": [
    "## Čiste funkcije\n",
    "\n",
    "Nasprotje funkcij, ki sprožajo učinke, so _čiste_ funkcije. Kljub temu, da z njimi lahko postorimo manj, imajo prednost, da o njih lažje razmišljamo, saj:\n",
    "\n",
    "1. jih vedno lahko zamenjamo z njihovimi definicijami\n",
    "\n",
    "2. ob enakih argumentih vedno vrnejo enake rezultate\n",
    "\n",
    "S funkcijami, ki sprožajo učinke, to ni nujno res. Na primer, če v Pythonu definiramo:\n",
    "\n",
    "```python\n",
    "seznam = [1, 2, 3]\n",
    "def f(x):\n",
    "    seznam.append(x)\n",
    "    return len(seznam)\n",
    "def g(x):\n",
    "    return f(x) + f(x)\n",
    "```\n",
    "\n",
    "bomo ob klicu `g(3)` dobili\n",
    "\n",
    "```python\n",
    ">>> g(3)\n",
    "9\n",
    "```\n",
    "\n",
    "če to zamenjamo z definicijo `f(3) + f(3)`, dobimo:\n",
    "\n",
    "```python\n",
    ">>> f(3) + f(3)\n",
    "13\n",
    "```\n",
    "\n",
    "in če še enkrat pokličemo `g(3)`, dobimo:\n",
    "\n",
    "```python\n",
    ">>> g(3)\n",
    "17\n",
    "```\n",
    "\n",
    "Ker funkcija `f` ob klicu spreminja seznam, bomo vsakič dobili drugačen odgovor. O tem, kaj vračata funkciji `f` in `g` tako zelo težko sklepamo. Če pa imamo čiste funkcije (na primer spodnjo, ki ne spreminja obstoječega seznama, temveč vrača novega), potem ob vsakem klicu dobimo enak odgovor."
   ]
  },
  {
   "cell_type": "code",
   "execution_count": 11,
   "metadata": {},
   "outputs": [
    {
     "data": {
      "text/plain": [
       "val seznam : int list = [1; 2; 3]\n"
      ]
     },
     "execution_count": 11,
     "metadata": {},
     "output_type": "execute_result"
    },
    {
     "data": {
      "text/plain": [
       "val f : int -> int = <fun>\n"
      ]
     },
     "execution_count": 11,
     "metadata": {},
     "output_type": "execute_result"
    },
    {
     "data": {
      "text/plain": [
       "val g : int -> int = <fun>\n"
      ]
     },
     "execution_count": 11,
     "metadata": {},
     "output_type": "execute_result"
    }
   ],
   "source": [
    "let seznam = [1; 2; 3]\n",
    "let f x =\n",
    "    let seznam = x :: seznam in\n",
    "    List.length seznam\n",
    "let g x =\n",
    "    f x + f x"
   ]
  },
  {
   "cell_type": "code",
   "execution_count": 12,
   "metadata": {},
   "outputs": [
    {
     "data": {
      "text/plain": [
       "- : int = 8\n"
      ]
     },
     "execution_count": 12,
     "metadata": {},
     "output_type": "execute_result"
    }
   ],
   "source": [
    "g 3"
   ]
  },
  {
   "cell_type": "code",
   "execution_count": 13,
   "metadata": {},
   "outputs": [
    {
     "data": {
      "text/plain": [
       "- : int = 8\n"
      ]
     },
     "execution_count": 13,
     "metadata": {},
     "output_type": "execute_result"
    }
   ],
   "source": [
    "f 3 + f 3"
   ]
  },
  {
   "cell_type": "code",
   "execution_count": 14,
   "metadata": {},
   "outputs": [
    {
     "data": {
      "text/plain": [
       "- : int = 8\n"
      ]
     },
     "execution_count": 14,
     "metadata": {},
     "output_type": "execute_result"
    }
   ],
   "source": [
    "g 3"
   ]
  },
  {
   "cell_type": "markdown",
   "metadata": {},
   "source": [
    "Zaradi tega je v splošnem dobro, da v naših programih napišemo čimveč čistih funkcij, funkcije z učinki pa omejimo kolikor se da. Tako bodo naši programi jasnejši in z manj napakami. Poleg tega pa si lahko ob čistih funkcijah privoščimo čisto prave matematične dokaze. Da bomo imeli kaj, s čimer bomo lahko delali, si definirajmo sledeče tri funkcije:"
   ]
  },
  {
   "cell_type": "code",
   "execution_count": 15,
   "metadata": {},
   "outputs": [
    {
     "data": {
      "text/plain": [
       "val ( @ ) : 'a list -> 'a list -> 'a list = <fun>\n"
      ]
     },
     "execution_count": 15,
     "metadata": {},
     "output_type": "execute_result"
    }
   ],
   "source": [
    "let rec (@) xs ys =\n",
    "  match xs with\n",
    "  | [] -> ys\n",
    "  | x :: xs' -> x :: (xs' @ ys)"
   ]
  },
  {
   "cell_type": "code",
   "execution_count": 16,
   "metadata": {},
   "outputs": [
    {
     "data": {
      "text/plain": [
       "val obrni : 'a list -> 'a list = <fun>\n"
      ]
     },
     "execution_count": 16,
     "metadata": {},
     "output_type": "execute_result"
    }
   ],
   "source": [
    "let rec obrni = function\n",
    "  | [] -> []\n",
    "  | x :: xs -> obrni xs @ [x]"
   ]
  },
  {
   "cell_type": "code",
   "execution_count": 17,
   "metadata": {},
   "outputs": [
    {
     "data": {
      "text/plain": [
       "val dolzina : 'a list -> int = <fun>\n"
      ]
     },
     "execution_count": 17,
     "metadata": {},
     "output_type": "execute_result"
    }
   ],
   "source": [
    "let rec dolzina = function\n",
    "  | [] -> 0\n",
    "  | _ :: xs -> 1 + dolzina xs"
   ]
  },
  {
   "cell_type": "markdown",
   "metadata": {},
   "source": [
    "Iz definicij takoj sledijo enačbe\n",
    "\n",
    "1. `[] @ ys = ys`\n",
    "2. `(x :: xs) @ ys = x :: (xs @ ys)`\n",
    "3. `obrni [] = []`\n",
    "4. `obrni (x :: xs) = obrni xs @ [x]`\n",
    "5. `dolzina [] = 0`\n",
    "6. `dolzina (x :: xs) = 1 + dolzina xs`\n",
    "\n",
    "Iz teh enačb na primer takoj sledi trditev `obrni [x] = [x]`.\n",
    "\n",
    "    obrni [x]\n",
    "    = obrni (x :: [])\n",
    "        (ker je `[x]` okrajšava za `x :: []`)\n",
    "    = [] @ [x]\n",
    "        (po (3))\n",
    "    = [x]\n",
    "        (po (1))\n",
    "\n",
    "## Indukcija na seznamih\n",
    "\n",
    "### Trditev: `dolzina (xs @ ys) = dolzina xs + dolzina ys`\n",
    "\n",
    "Tukaj enostavno odvijanje definicij ne bo pomagalo, saj izraz `dolzina (xs @ ys)` ne ustreza ne levi ne desni strani nobene od zgoraj naštetih definicij. Namesto tega uporabimo načelo indukcije za sezname:\n",
    "\n",
    "    P([]) ∧ (∀ z, zs. P(zs) ⇒ P(z :: zs)) ⟹ ∀ ws. P(ws)\n",
    "\n",
    "Torej, lastnost `P` velja za vse sezname `ws`, kadar (1) velja za prazen seznam `[]` in (2) velja za sestavljen seznam `z :: zs` ob predpostavki, da velja za rep `zs`. Načelo indukcije je podobno načelu indukcije za naravna števila:\n",
    "\n",
    "    P(0) ∧ (∀ m. P(m) ⇒ P(m⁺)) ⟹ ∀ n. P(n)\n",
    "\n",
    "Torej, lastnost `P` velja za vsa naravna števila `n`, kadar (1) velja za `0` in (2) velja za naslednika `m⁺` ob predpostavki, da velja za `m`. Izjavo dokažemo z indukcijo na levi seznam. Indukcija poteka v dveh korakih:\n",
    "\n",
    "#### Osnovni korak\n",
    "\n",
    "V osnovnem koraku pokažemo, da enakost velja, kadar je levi seznam prazen, torej oblike `[]`:\n",
    "\n",
    "    dolzina ([] @ ys)\n",
    "    = dolzina ys\n",
    "        (po (1))\n",
    "    = 0 + dolzina ys\n",
    "        (po Peanovih aksiomih)\n",
    "    = dolzina [] + dolzina ys\n",
    "        (po (5))\n",
    "\n",
    "#### Indukcijski korak\n",
    "\n",
    "V indukcijskem koraku pokažemo, da enakost velja za sestavljeni seznam `x :: xs` ob predpostavki, da enakost velja za seznam `xs`:\n",
    "\n",
    "    dolzina ((x :: xs) @ ys)\n",
    "    = dolzina (x :: (xs @ ys))\n",
    "        (po (2))\n",
    "    = 1 + dolzina (xs @ ys)\n",
    "        (po (6))\n",
    "    = 1 + (dolzina xs + dolzina ys)\n",
    "        (po indukcijski prepostavki)\n",
    "    = (1 + dolzina xs) + dolzina ys)\n",
    "        (po Peanovih aksiomih)\n",
    "    = dolzina (x :: xs) + dolzina ys\n",
    "        (po (6))\n",
    "\n",
    "### Pravilnost načela indukcije na seznamih\n",
    "\n",
    "Zakaj sploh smemo uporabiti načelo indukcije? Recimo, da velja\n",
    "\n",
    "    P([]) ∧ (∀ z, zs. P(zs) ⇒ P(z :: zs))\n",
    "\n",
    "Zakaj potem velja `P(ws)` za poljuben seznam `ws`? Vzemimo nek konkreten seznam, na primer `[1; 2; 3]`, in pokažimo, da velja `P([1; 2; 3])`. Res, po prvem delu predpostavke velja `P([])`. Zato po drugem delu predpostavke velja `P([3])`, saj velja `P([])` in je `[3] = 3 :: []`. Podobno potem iz `P([3])` sledi `P([2; 3])` in na koncu tudi `P([1; 2; 3])`. Tak dokaz bi lahko ponovili za vsak konkreten seznam.\n",
    "\n",
    "V splošnem pa se naslonimo na načelo indukcije za naravna števila. Definirajmo:\n",
    "\n",
    "    Q(n) :=  ∀ ws. |ws| = n ⇒ P(ws)\n",
    "\n",
    "Torej, `Q(n)` velja, če velja `P(ws)` za vse sezname `ws` dolžine `n`. Iz Peanovih aksiomov potem sledi:\n",
    "\n",
    "    Q(0) ∧ (∀m. Q(m) ⇒ Q(m+)) ⟹ ∀n. Q(n)\n",
    "\n",
    "Pokažimo, da velja `Q(0)` in `∀m. Q(m) ⇒ Q(m+)`. Ker velja `P([])` in je `[]` edini seznam dolžine `0`, velja tudi `Q(0)`. Vzemimo poljuben `m` in predpostavimo `Q(m)`. Torej za poljuben seznam `zs` dolžine `m` velja `P(zs)`. Iz predpostavke potem sledi, da velja tudi `P(z :: zs)`. Ker so vsi seznami dolžine `m⁺` take oblike, smo pokazali `Q(m⁺)`. Po indukciji na naravnih številih torej sledi `∀n. Q(n)`. Ker je vsak seznam `ws` končen, ima za dolžino neko naravno število, zato velja `P(ws)` za vse sezname `ws`.\n",
    "\n",
    "### Trditev: `xs @ [] = xs`\n",
    "\n",
    "Po (1) vemo, da je `[] @ xs = xs`, torej je `[]` leva enota za `@`. To, da je `[]` tudi desna enota, pa ni samoumevno --- za dokaz uporabimo indukcijo.\n",
    "\n",
    "#### Osnovni korak\n",
    "\n",
    "Po (1) velja `[] @ [] = []`, kar dokaže osnovni korak.\n",
    "\n",
    "#### Indukcijski korak\n",
    "\n",
    "Prepostavimo, da velja `xs @ [] = xs`. Tedaj velja\n",
    "\n",
    "    (x :: xs) @ []\n",
    "    = x :: (xs @ [])\n",
    "        (po (2))\n",
    "    = x :: xs\n",
    "        (po indukcijski prepostavki)\n",
    "\n",
    "kar zaključi tudi indukcijski korak.\n",
    "\n",
    "\n",
    "### Trditev `xs @ (ys @ zs) = (xs @ ys) @ zs`\n",
    "\n",
    "Operacija stikanja seznamov `@` je tudi asociativna, kar dokažemo z indukcijo na `xs`. Če zapišete dokaz asociativnosti seštevanja, lahko vidite, da poteka podobno, le da se namesto `[]` pojavlja `0`, namesto `x :: xs` pa naslednik `n⁺`.\n",
    "\n",
    "#### Osnovni korak\n",
    "\n",
    "    [] @ (ys @ zs)\n",
    "    = ys @ zs\n",
    "        (po (1))\n",
    "    = ([] @ ys) @ zs\n",
    "        (po (1))\n",
    "\n",
    "#### Indukcijski korak\n",
    "\n",
    "Prepostavimo, da velja `xs @ (ys @ zs) = (xs @ ys) @ zs`. Tedaj velja\n",
    "\n",
    "    (x :: xs) @ (ys @ zs)\n",
    "    = x :: (xs @ (ys @ zs))\n",
    "        (po (2))\n",
    "    = x :: ((xs @ ys) @ zs)\n",
    "        (po indukcijski predpostavki)\n",
    "    = (x :: (xs @ ys)) @ zs\n",
    "        (po (2))\n",
    "    = ((x :: xs) @ ys) @ zs\n",
    "        (po (2))\n",
    "\n",
    "### Trditev `obrni (xs @ ys) = obrni ys @ obrni xs`\n",
    "\n",
    "#### Osnovni korak\n",
    "\n",
    "    obrni ([] @ ys)\n",
    "    = obrni ys\n",
    "        (po (1))\n",
    "    = obrni ys @ []\n",
    "        (po prej dokazani trditvi ∀ xs. xs @ [] = xs)\n",
    "    = obrni ys @ obrni []\n",
    "        (po (3))\n",
    "\n",
    "#### Indukcijski korak\n",
    "\n",
    "    obrni ((x :: xs) @ ys)\n",
    "    = obrni (x :: (xs @ ys))\n",
    "        (po (2))\n",
    "    = obrni (xs @ ys) @ [x]\n",
    "        (po (4))\n",
    "    = (obrni ys @ obrni xs) @ [x]\n",
    "        (po indukcijski predpostavki)\n",
    "    = obrni ys @ (obrni xs @ [x])\n",
    "        (po prej dokazani trditvi ∀ xs, ys, zs. xs @ (ys @ zs) = (xs @ ys) @ zs)\n",
    "    = obrni ys @ obrni (x :: xs)\n",
    "        (po (4))\n",
    "\n",
    "### Trditev `dolzina (obrni xs) = dolzina xs`\n",
    "\n",
    "#### Osnovni korak\n",
    "\n",
    "Iz definicije (3) sledi `dolzina (obrni []) = dolzina []`,\n",
    "\n",
    "#### Indukcijski korak\n",
    "\n",
    "Za indukcijski korak moramo pokazati, da velja `dolzina (obrni (x :: xs)) = dolzina (x :: xs)` ob indukcijski predpostavki `dolzina (obrni xs) = dolzina xs`.\n",
    "Velja:\n",
    "\n",
    "    dolzina (obrni (x :: xs))\n",
    "    = dolzina (obrni xs @ [x])\n",
    "        (po definiciji (4))\n",
    "    = dolzina (obrni xs) + dolzina [x]\n",
    "        (po zgornji lemi)\n",
    "    = dolzina xs + dolzina [x]\n",
    "        (po indukcijski predpostavki)\n",
    "    = dolzina xs + 1\n",
    "        (po definicijah (5) in (6))\n",
    "    = 1 + dolzina xs\n",
    "        (zaradi komutativnosti seštevanja)\n",
    "    = dolzina (x :: xs)\n",
    "        (po definiciji (6))\n",
    "\n",
    "s čimer zaključimo tudi indukcijski korak.\n",
    "\n",
    "## Indukcija na drevesih\n",
    "\n",
    "Načela indukcije imamo na voljo tudi na drugih vsotah.\n",
    "Na primer, če definiramo tip dvojiških dreves:\n",
    "\n",
    "```ocaml\n",
    "type 'a drevo =\n",
    "  | Prazno\n",
    "  | Sest of 'a drevo * 'a * 'a drevo\n",
    "```\n",
    "\n",
    "zanj velja načelo indukcije:\n",
    "\n",
    "    P(Prazno) ∧ (∀ l, x, d. P(l) ∧ P(d) ⇒ P(Sest (l, x, d))) ⟹ ∀ t. P(t)\n",
    "\n",
    "Torej, lastnost `P` velja za vsa drevesa `t`, kadar (1) velja za prazno drevo `Prazno` in (2) velja za sestavljeno drevo `Sest (l, x, d)` ob predpostavki, da velja za otroka `l` in `d`.\n",
    "\n",
    "Definirajmo funkciji:\n",
    "\n",
    "```ocaml\n",
    "let rec zrcali = function\n",
    "  | Prazno -> Prazno\n",
    "  | Sest (l, x, d) -> Sest (zrcali d, x, zrcali l)\n",
    "\n",
    "let rec globina = function\n",
    "  | Prazno -> 0\n",
    "  | Sest (l, _, d) -> 1 + max (globina l) (globina d)\n",
    "```\n",
    "\n",
    "Iz definicij sledijo enačbe\n",
    "\n",
    "1. `zrcali Prazno = Prazno`\n",
    "2. `zrcali (Sest (l, x, d)) = Sest (zrcali d, x, zrcali l)`\n",
    "3. `globina Prazno = 0`\n",
    "4. `globina (Sest (l, x, d)) = 1 + max (globina l) (globina d)`\n",
    "\n",
    "\n",
    "### Trditev `globina (zrcali t) = globina t`\n",
    "\n",
    "#### Osnovni korak\n",
    "\n",
    "    globina (zrcali Prazno)\n",
    "    = globina Prazno\n",
    "        (po (1))\n",
    "\n",
    "#### Indukcijski korak\n",
    "\n",
    "    globina (zrcali (Sest (l, x, d)))\n",
    "    = globina (Sest (zrcali d, x, zrcali l))\n",
    "        (po (2))\n",
    "    = 1 + max (globina (zrcali d)) (globina (zrcali l))\n",
    "        (po (4))\n",
    "    = 1 + max (globina d) (globina (zrcali l))\n",
    "        (po prvi indukcijski predpostavki)\n",
    "    = 1 + max (globina d) (globina l)\n",
    "        (po drugi indukcijski predpostavki)\n",
    "    = 1 + max (globina l) (globina d)\n",
    "        (zaradi komutativnosti max)\n",
    "    = globina (Sest (l, x, d))\n",
    "        (po (4))\n",
    "\n",
    "## Vaje za utrjevanje\n",
    "\n",
    "### Trditev `obrni (obrni xs) = xs`\n",
    "\n",
    "### Trditev `zrcali (zrcali t) = t`\n",
    "\n",
    "### Trditev `obrni xs = obrni' xs` (težja)\n",
    "\n",
    "Kot vemo, ima funkcija `obrni`, definirana kot:\n",
    "\n",
    "```ocaml\n",
    "let rec obrni = function\n",
    "  | [] -> []\n",
    "  | x :: xs -> obrni xs @ [x]\n",
    "```\n",
    "\n",
    "časovno zahtevnost `O(n²)`, saj se mora zapeljati čez ves seznam, da mu na konec doda `x`.\n",
    "\n",
    "Bolje je, če uporabimo funkcijo `obrni'`, ki uporablja akumulator in je definirana kot:\n",
    "\n",
    "```ocaml\n",
    "let obrni' =\n",
    "  let rec aux acc = function\n",
    "    | [] -> aux\n",
    "    | x :: xs -> aux (x :: acc) xs\n",
    "  in\n",
    "  aux []\n",
    "```\n",
    "\n",
    "Pokažite, da za vse sezname `xs` velja `obrni xs = obrni' xs`.\n",
    "\n",
    "### Indukcija na drugih tipih\n",
    "\n",
    "Definirajmo tipe\n",
    "\n",
    "```ocaml\n",
    "type naravno = Zero | Succ of naravno\n",
    "type boole = Resnica | Laz\n",
    "type 'a mogoce = Nic | Nekaj of 'a\n",
    "```\n",
    "\n",
    "Kakšni sta videti načeli indukcije za te tipe?"
   ]
  }
 ],
 "metadata": {
  "jupytext": {
   "text_representation": {
    "extension": ".md",
    "format_name": "myst",
    "format_version": 0.12,
    "jupytext_version": "1.8.0"
   }
  },
  "kernelspec": {
   "display_name": "OCaml 4.11",
   "language": "OCaml",
   "name": "ocaml-jupyter"
  },
  "language_info": {
   "codemirror_mode": "text/x-ocaml",
   "file_extension": ".ml",
   "mimetype": "text/x-ocaml",
   "name": "OCaml",
   "nbconverter_exporter": null,
   "pygments_lexer": "OCaml",
   "version": "4.11.1"
  },
  "source_map": [
   12,
   16,
   22,
   30,
   34,
   36,
   40,
   44,
   46,
   50,
   52,
   56,
   60,
   62,
   66,
   68,
   72,
   74,
   118,
   127,
   131,
   135,
   137,
   141,
   148,
   154,
   158
  ]
 },
 "nbformat": 4,
 "nbformat_minor": 4
}