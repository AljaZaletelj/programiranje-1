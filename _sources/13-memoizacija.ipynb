{
 "cells": [
  {
   "cell_type": "markdown",
   "metadata": {},
   "source": [
    "# Memoizacija"
   ]
  },
  {
   "cell_type": "markdown",
   "metadata": {},
   "source": [
    "## Kadar:\n",
    "\n",
    "1. rešitve podnalog **sestavljajo** rešitev celote in\n",
    "2. se podnaloge **prekrivajo**,\n",
    "\n",
    "![](slike/dinamicno-programiranje.png)\n",
    "\n",
    "## govorimo o **dinamičnem programiranju**"
   ]
  },
  {
   "cell_type": "markdown",
   "metadata": {},
   "source": [
    "## Ponavljanju se izognemo na **dva načina**\n",
    "\n",
    "1. rešitve pripravimo v ustreznem vrstnem redu ![](slike/izracun-vnaprej1.png) ![](slike/izracun-vnaprej2.png)\n",
    "\n",
    "2. rešitve si samodejno shranjujemo (**danes**)"
   ]
  },
  {
   "cell_type": "markdown",
   "metadata": {},
   "source": [
    "## \"rešitve si samodejno shranjujemo\"\n",
    "\n",
    "## =\n",
    "\n",
    "## memoizacija"
   ]
  },
  {
   "cell_type": "markdown",
   "metadata": {},
   "source": [
    "### Za memoizacijo v Pythonu uporabimo **slovar**\n",
    "\n",
    "```python\n",
    "kvadrati = {}\n",
    "def mem_kvadrat(x):\n",
    "    if x not in kvadrati:\n",
    "        print('Računam', x)\n",
    "        y = x ** 2\n",
    "        kvadrati[x] = y\n",
    "    return kvadrati[x]\n",
    "```\n",
    "\n",
    "```python\n",
    ">>> mem_kvadrat(10)\n",
    "Računam 10\n",
    "100\n",
    ">>> mem_kvadrat(10)\n",
    "100\n",
    "```"
   ]
  },
  {
   "cell_type": "markdown",
   "metadata": {},
   "source": [
    "### Memoizacijo lahko naredimo tudi **v splošnem**\n",
    "\n",
    "```python\n",
    "def memoiziraj(f):\n",
    "    rezultati = {}\n",
    "    def mem_f(x):\n",
    "        if x not in rezultati:\n",
    "            rezultati[x] = f(x)\n",
    "        return rezultati[x]\n",
    "    return mem_f\n",
    "```\n",
    "\n",
    "--\n",
    "\n",
    "```python\n",
    "def pomozna(x): ...\n",
    "f = dekorator(pomozna)\n",
    "```\n",
    "\n",
    "--\n",
    "\n",
    "```python\n",
    "@dekorator\n",
    "def f(x): ...\n",
    "```"
   ]
  },
  {
   "cell_type": "markdown",
   "metadata": {},
   "source": [
    "### Memoizacijo lahko naredimo tudi **v splošnem**\n",
    "\n",
    "```python\n",
    "@memoiziraj\n",
    "def fib(n):\n",
    "    print(n, end='-')\n",
    "    if n == 0 or n == 1:\n",
    "        return n\n",
    "    else:\n",
    "        return fib(n - 1) + fib(n - 2)\n",
    "```\n",
    "\n",
    "```ocaml\n",
    ">>> fib(10)\n",
    "10-9-8-7-6-5-4-3-2-1-0-55\n",
    ">>> fib(10)\n",
    "55\n",
    "```"
   ]
  },
  {
   "cell_type": "markdown",
   "metadata": {},
   "source": [
    "### Lahko uporabimo tudi dekorator `lru_cache`\n",
    "\n",
    "```python\n",
    "from functools import lru_cache\n",
    "\n",
    "@lru_cache(maxsize=None)\n",
    "def fib(n):\n",
    "    print(n, end='-')\n",
    "    if n == 0 or n == 1:\n",
    "        return n\n",
    "    else:\n",
    "        return fib(n - 1) + fib(n - 2)\n",
    "```\n",
    "\n",
    "```ocaml\n",
    ">>> fib(10)\n",
    "10-9-8-7-6-5-4-3-2-1-0-55\n",
    ">>> fib(10)\n",
    "55\n",
    "```"
   ]
  },
  {
   "cell_type": "markdown",
   "metadata": {},
   "source": [
    "## ↓/→ pot z najmanjšo vsoto\n",
    "\n",
    "```\n",
    "|        |         |         |\n",
    "```\n",
    "\n",
    ":-----: | :----: | :-----: | :-----: | :-----: **131** | 673 | 234 | 103 | 18 **201** | **96** | **342** | 965 | 150 630 | 803 | **746** | **422** | 111 537 | 699 | 497 | **121** | 956 805 | 732 | 524 | **37** | **331**"
   ]
  },
  {
   "cell_type": "markdown",
   "metadata": {},
   "source": [
    "### Za memoizacijo v OCamlu uporabimo **zgoščevalne tabele**\n",
    "\n",
    "```ocaml\n",
    "let kvadrati = Hashtbl.create 512\n",
    "let mem_kvadrat x =\n",
    "  match Hashtbl.find_opt kvadrati x with\n",
    "  | Some y -> y\n",
    "  | None ->\n",
    "      print_endline (string_of_int x);\n",
    "      let y = x * x in\n",
    "      Hashtbl.add kvadrati x y;\n",
    "      y\n",
    "```"
   ]
  },
  {
   "cell_type": "markdown",
   "metadata": {},
   "source": [
    "### Memoizacijo lahko naredimo tudi **v splošnem**\n",
    "\n",
    "```ocaml\n",
    "let memoiziraj f =\n",
    "  let rezultati = Hashtbl.create 512 in\n",
    "  let mem_f x =\n",
    "    match Hashtbl.find_opt rezultati x with\n",
    "    | None ->\n",
    "        let y = f x in\n",
    "        Hashtbl.add rezultati x y;\n",
    "        y\n",
    "    | Some y ->\n",
    "        y\n",
    "  in\n",
    "  mem_f\n",
    "```"
   ]
  },
  {
   "cell_type": "markdown",
   "metadata": {},
   "source": [
    "### Memoizacijo lahko naredimo tudi **v splošnem**"
   ]
  },
  {
   "cell_type": "code",
   "execution_count": null,
   "metadata": {},
   "outputs": [],
   "source": [
    "let kvadrat x =\n",
    "  print_endline (\"Računam \" ^ string_of_int x);\n",
    "  x * x\n",
    "let mem_kvadrat = memoiziraj kvadrat"
   ]
  },
  {
   "cell_type": "code",
   "execution_count": null,
   "metadata": {},
   "outputs": [],
   "source": [
    "mem_kvadrat 10"
   ]
  },
  {
   "cell_type": "code",
   "execution_count": null,
   "metadata": {},
   "outputs": [],
   "source": [
    "mem_kvadrat 10"
   ]
  },
  {
   "cell_type": "code",
   "execution_count": null,
   "metadata": {},
   "outputs": [],
   "source": [
    "mem_kvadrat 5"
   ]
  },
  {
   "cell_type": "markdown",
   "metadata": {},
   "source": [
    "## Memoizacija rekurzivnih funkcij **ne dela** v redu\n",
    "\n",
    "```ocaml\n",
    "let rec fib n =\n",
    "  print_int n;\n",
    "  match n with\n",
    "  | 0 | 1 -> n\n",
    "  | n -> fib (n - 1) + fib (n - 2)\n",
    "let mem_fib = memoiziraj fib\n",
    "```"
   ]
  },
  {
   "cell_type": "code",
   "execution_count": null,
   "metadata": {},
   "outputs": [],
   "source": [
    "mem_fib 5"
   ]
  },
  {
   "cell_type": "code",
   "execution_count": null,
   "metadata": {},
   "outputs": [],
   "source": [
    "mem_fib 5"
   ]
  },
  {
   "cell_type": "code",
   "execution_count": null,
   "metadata": {},
   "outputs": [],
   "source": [
    "mem_fib 6"
   ]
  },
  {
   "cell_type": "markdown",
   "metadata": {},
   "source": [
    "### OCaml za razliko od Pythona ni dinamičen jezik"
   ]
  },
  {
   "cell_type": "markdown",
   "metadata": {},
   "source": [
    "### V izračun želimo vriniti drugo funkcijo, zato rekurzivno definicijo **razbijemo** na dva dela"
   ]
  },
  {
   "cell_type": "code",
   "execution_count": null,
   "metadata": {},
   "outputs": [],
   "source": [
    "let odviti_fib f n =\n",
    "  print_int n;\n",
    "  match n with\n",
    "  | 0 | 1 -> n\n",
    "  | n -> f (n - 1) + f (n - 2)"
   ]
  },
  {
   "cell_type": "code",
   "execution_count": null,
   "metadata": {},
   "outputs": [],
   "source": [
    "let rec fib n = odviti_fib fib n"
   ]
  },
  {
   "cell_type": "markdown",
   "metadata": {},
   "source": [
    "#### Funkcija `fib` je **fiksna točka** funkcije `odviti_fib`"
   ]
  },
  {
   "cell_type": "markdown",
   "metadata": {},
   "source": [
    "### Vozel lahko zavežemo tudi v splošnem"
   ]
  },
  {
   "cell_type": "code",
   "execution_count": null,
   "metadata": {},
   "outputs": [],
   "source": [
    "let zavezi_vozel odviti_f =\n",
    "  let rec f x =\n",
    "    odviti_f f x\n",
    "  in\n",
    "  f\n",
    "\n",
    "let fib = zavezi_vozel (fun fib n ->\n",
    "  match n with\n",
    "  | 0 | 1 -> n\n",
    "  | n -> fib (n - 1) + fib (n - 2)\n",
    ")"
   ]
  },
  {
   "cell_type": "markdown",
   "metadata": {},
   "source": [
    "## Sedaj lahko pred klic **vrinemo memoizacijo**"
   ]
  },
  {
   "cell_type": "code",
   "execution_count": null,
   "metadata": {},
   "outputs": [],
   "source": [
    "let memoiziraj_rec odviti_f =\n",
    "  let rezultati = Hashtbl.create 512 in\n",
    "  let rec mem_f x =\n",
    "    match Hashtbl.find_opt rezultati x with\n",
    "    | None ->\n",
    "        let y = odviti_f mem_f x in\n",
    "        Hashtbl.add rezultati x y;\n",
    "        y\n",
    "    | Some y ->\n",
    "        y\n",
    "  in\n",
    "  mem_f"
   ]
  },
  {
   "cell_type": "markdown",
   "metadata": {},
   "source": [
    "## Število alternirajočih stolpov\n",
    "\n",
    "![](slike/stolpi-kocke.png) ![](slike/stolpi-4.png)"
   ]
  },
  {
   "cell_type": "code",
   "execution_count": null,
   "metadata": {},
   "outputs": [],
   "source": []
  }
 ],
 "metadata": {
  "kernelspec": {
   "display_name": "Python 3",
   "language": "python",
   "name": "python3"
  },
  "language_info": {
   "codemirror_mode": {
    "name": "ipython",
    "version": 3
   },
   "file_extension": ".py",
   "mimetype": "text/x-python",
   "name": "python",
   "nbconvert_exporter": "python",
   "pygments_lexer": "ipython3",
   "version": "3.8.6"
  }
 },
 "nbformat": 4,
 "nbformat_minor": 4
}
