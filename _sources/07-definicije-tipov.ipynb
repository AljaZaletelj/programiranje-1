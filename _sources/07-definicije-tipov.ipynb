{
 "cells": [
  {
   "cell_type": "markdown",
   "metadata": {},
   "source": [
    "# Definicije tipov"
   ]
  },
  {
   "cell_type": "code",
   "execution_count": 1,
   "metadata": {
    "tags": [
     "remove-cell",
     "remove-stdout"
    ]
   },
   "outputs": [],
   "source": [
    "(* Ko se v Jupytru prvič požene OCaml, program Findlib izpiše neko sporočilo.\n",
    "   Da se to sporočilo ne bi videlo v zapiskih, je tu ta celica, ki sproži izpis,\n",
    "   vendar ima nastavljeno, da je v zapiskih v celoti skrita. *)"
   ]
  },
  {
   "cell_type": "markdown",
   "metadata": {},
   "source": [
    "Poleg bogatega nabora vgrajenih tipov si tipe v OCamlu lahko definiramo tudi sami.\n",
    "\n",
    "## Okrajšave tipov\n",
    "\n",
    "Najenostavnejši način za definicijo tipov so okrajšave obstoječih tipov. Na primer, tip za $\\mathbb{R}^3$ si lahko definiramo kot:"
   ]
  },
  {
   "cell_type": "code",
   "execution_count": 2,
   "metadata": {},
   "outputs": [
    {
     "data": {
      "text/plain": [
       "type r3 = float * float * float\n"
      ]
     },
     "execution_count": 2,
     "metadata": {},
     "output_type": "execute_result"
    }
   ],
   "source": [
    "type r3 = float * float * float"
   ]
  },
  {
   "cell_type": "markdown",
   "metadata": {},
   "source": [
    "Tako kot na primer vgrajeni tip `list` lahko tudi naši tipi vsebujejo parametre:"
   ]
  },
  {
   "cell_type": "code",
   "execution_count": 3,
   "metadata": {},
   "outputs": [
    {
     "data": {
      "text/plain": [
       "type 'a zaporedje = int -> 'a\n"
      ]
     },
     "execution_count": 3,
     "metadata": {},
     "output_type": "execute_result"
    },
    {
     "data": {
      "text/plain": [
       "type ('k, 'v) slovar = ('k * 'v) list\n"
      ]
     },
     "execution_count": 3,
     "metadata": {},
     "output_type": "execute_result"
    }
   ],
   "source": [
    "type 'a zaporedje = int -> 'a\n",
    "\n",
    "type ('k, 'v) slovar = ('k * 'v) list"
   ]
  },
  {
   "cell_type": "markdown",
   "metadata": {},
   "source": [
    "Če tip sprejme več parametrov (na primer slovar ima tako tip ključev kot tip vrednosti), jih lahko naštejemo v oklepajih.\n",
    "\n",
    "## Zapisni tipi\n",
    "\n",
    "Recimo, da si definiramo kompleksna števila s pari realnih:"
   ]
  },
  {
   "cell_type": "code",
   "execution_count": 4,
   "metadata": {},
   "outputs": [
    {
     "data": {
      "text/plain": [
       "type kompleksno = float * float\n"
      ]
     },
     "execution_count": 4,
     "metadata": {},
     "output_type": "execute_result"
    }
   ],
   "source": [
    "type kompleksno = float * float"
   ]
  },
  {
   "cell_type": "markdown",
   "metadata": {},
   "source": [
    "Kako bi izračunali absolutno vrednost kompleksnega števila? Ena možnost je:"
   ]
  },
  {
   "cell_type": "code",
   "execution_count": 5,
   "metadata": {},
   "outputs": [
    {
     "data": {
      "text/plain": [
       "val abs : float * float -> float = <fun>\n"
      ]
     },
     "execution_count": 5,
     "metadata": {},
     "output_type": "execute_result"
    }
   ],
   "source": [
    "let abs (x, y) = sqrt (x ** 2. +. y ** 2.)"
   ]
  },
  {
   "cell_type": "markdown",
   "metadata": {},
   "source": [
    "Toda če smo v mislih imeli polarni zapis, je pravilna definicija:"
   ]
  },
  {
   "cell_type": "code",
   "execution_count": 6,
   "metadata": {},
   "outputs": [
    {
     "data": {
      "text/plain": [
       "val abs : 'a * 'b -> 'a = <fun>\n"
      ]
     },
     "execution_count": 6,
     "metadata": {},
     "output_type": "execute_result"
    }
   ],
   "source": [
    "let abs (r, _fi) = r"
   ]
  },
  {
   "cell_type": "markdown",
   "metadata": {},
   "source": [
    "Zmešnjavi se lahko izognemo, če obe komponenti poimenujemo. V OCamlu to storimo z zapisnimi tipi, ki jih podamo tako, da naštejemo imena polj ter njihove tipe:"
   ]
  },
  {
   "cell_type": "code",
   "execution_count": 7,
   "metadata": {},
   "outputs": [
    {
     "data": {
      "text/plain": [
       "type kartezicno = { re : float; im : float; }\n"
      ]
     },
     "execution_count": 7,
     "metadata": {},
     "output_type": "execute_result"
    },
    {
     "data": {
      "text/plain": [
       "type polarno = { radij : float; kot : float; }\n"
      ]
     },
     "execution_count": 7,
     "metadata": {},
     "output_type": "execute_result"
    }
   ],
   "source": [
    "type kartezicno = {re : float; im : float}\n",
    "type polarno = {radij : float; kot : float}"
   ]
  },
  {
   "cell_type": "markdown",
   "metadata": {},
   "source": [
    "Vrednosti tipov pišemo podobno, le da jih podamo z `=`:"
   ]
  },
  {
   "cell_type": "code",
   "execution_count": 8,
   "metadata": {},
   "outputs": [
    {
     "data": {
      "text/plain": [
       "val i : kartezicno = {re = 0.; im = 1.}\n"
      ]
     },
     "execution_count": 8,
     "metadata": {},
     "output_type": "execute_result"
    }
   ],
   "source": [
    "let i = {re = 0.0; im = 1.0}"
   ]
  },
  {
   "cell_type": "markdown",
   "metadata": {},
   "source": [
    "Do komponent dostopamo z `zapis.ime_polja`:"
   ]
  },
  {
   "cell_type": "code",
   "execution_count": 9,
   "metadata": {},
   "outputs": [
    {
     "data": {
      "text/plain": [
       "val abs : kartezicno -> float = <fun>\n"
      ]
     },
     "execution_count": 9,
     "metadata": {},
     "output_type": "execute_result"
    }
   ],
   "source": [
    "let abs z = sqrt (z.re ** 2. +. z.im ** 2.)"
   ]
  },
  {
   "cell_type": "code",
   "execution_count": 10,
   "metadata": {},
   "outputs": [
    {
     "data": {
      "text/plain": [
       "val abs' : polarno -> float = <fun>\n"
      ]
     },
     "execution_count": 10,
     "metadata": {},
     "output_type": "execute_result"
    }
   ],
   "source": [
    "let abs' z = z.radij"
   ]
  },
  {
   "cell_type": "markdown",
   "metadata": {},
   "source": [
    "Kljub temu, da zapise pišemo podobno kot Pythonove slovarje, gre za popolnoma različni strukturi. Zapisi so v resnici kartezični produkti, le da so komponente poimenovane, imena polj pa niso vrednosti, ki bi si jih lahko podajali naokoli.\n",
    "\n",
    "## Vsote\n",
    "\n",
    "Najzanimivejši tip, ki ga lahko definiramo, pa so _vsote_. Podamo jih tako, da naštejemo možne variante, od katerih je vsaka podana s svojim _konstruktorjem_. Če se želimo omejiti na fiksno množico velikosti oblačil, lahko na primer napišemo enostavno vsoto s petimi variantami:"
   ]
  },
  {
   "cell_type": "code",
   "execution_count": 11,
   "metadata": {},
   "outputs": [
    {
     "data": {
      "text/plain": [
       "type velikost = XS | S | M | L | XL\n"
      ]
     },
     "execution_count": 11,
     "metadata": {},
     "output_type": "execute_result"
    }
   ],
   "source": [
    "type velikost = XS | S | M | L | XL"
   ]
  },
  {
   "cell_type": "markdown",
   "metadata": {},
   "source": [
    "Tedaj bo tip imel natanko pet možnih vrednosti in OCaml nas bo opozoril, če poskusimo uporabiti nenavedeno varianto:"
   ]
  },
  {
   "cell_type": "code",
   "execution_count": 12,
   "metadata": {},
   "outputs": [
    {
     "data": {
      "text/plain": [
       "- : velikost list = [XS; XS; M; S; XL; L; L]\n"
      ]
     },
     "execution_count": 12,
     "metadata": {},
     "output_type": "execute_result"
    }
   ],
   "source": [
    "[XS; XS; M; S; XL; L; L]"
   ]
  },
  {
   "cell_type": "code",
   "execution_count": 13,
   "metadata": {
    "tags": [
     "raises-exception"
    ]
   },
   "outputs": [
    {
     "ename": "error",
     "evalue": "compile_error",
     "output_type": "error",
     "traceback": [
      "File \"[13]\", line 1, characters 18-20:\n1 | [XS; XS; L; M; M; XM]\n                      ^^\nError: This variant expression is expected to have type velikost\n       The constructor XM does not belong to type velikost\n"
     ]
    }
   ],
   "source": [
    "[XS; XS; L; M; M; XM]"
   ]
  },
  {
   "cell_type": "markdown",
   "metadata": {},
   "source": [
    "Vsaka izmed naštetih konstruktorjev lahko sprejme tudi argumente vnaprej določenega tipa:"
   ]
  },
  {
   "cell_type": "code",
   "execution_count": 14,
   "metadata": {},
   "outputs": [
    {
     "data": {
      "text/plain": [
       "type geometrijski_objekt =\n",
       "    Tocka\n",
       "  | Krog of float\n",
       "  | Pravokotnik of float * float\n"
      ]
     },
     "execution_count": 14,
     "metadata": {},
     "output_type": "execute_result"
    }
   ],
   "source": [
    "type geometrijski_objekt =\n",
    "  | Tocka\n",
    "  | Krog of float\n",
    "  | Pravokotnik of float * float"
   ]
  },
  {
   "cell_type": "code",
   "execution_count": 15,
   "metadata": {},
   "outputs": [
    {
     "data": {
      "text/plain": [
       "- : geometrijski_objekt list = [Tocka; Pravokotnik (1., 2.); Tocka; Krog 3.]\n"
      ]
     },
     "execution_count": 15,
     "metadata": {},
     "output_type": "execute_result"
    }
   ],
   "source": [
    "[Tocka; Pravokotnik (1., 2.); Tocka; Krog 3.]"
   ]
  },
  {
   "cell_type": "markdown",
   "metadata": {},
   "source": [
    "Tako kot vsote naštejemo po kosih, lahko prek `match` ali `function` po kosih tudi definiramo funkcije na njih."
   ]
  },
  {
   "cell_type": "code",
   "execution_count": 16,
   "metadata": {},
   "outputs": [
    {
     "data": {
      "text/plain": [
       "val povrsina : geometrijski_objekt -> float = <fun>\n"
      ]
     },
     "execution_count": 16,
     "metadata": {},
     "output_type": "execute_result"
    }
   ],
   "source": [
    "let povrsina obj =\n",
    "  match obj with\n",
    "  | Tocka -> 0.\n",
    "  | Krog r -> 3.14 *. r ** 2.\n",
    "  | Pravokotnik (v, s) -> v *. s"
   ]
  },
  {
   "cell_type": "code",
   "execution_count": 17,
   "metadata": {},
   "outputs": [
    {
     "data": {
      "text/plain": [
       "val obseg : geometrijski_objekt -> float = <fun>\n"
      ]
     },
     "execution_count": 17,
     "metadata": {},
     "output_type": "execute_result"
    }
   ],
   "source": [
    "let obseg =\n",
    "  function\n",
    "  | Tocka -> 0.\n",
    "  | Krog r -> 2. *. 3.14 *. r\n",
    "  | Pravokotnik (v, s) -> 2. *. (v +. s)"
   ]
  },
  {
   "cell_type": "markdown",
   "metadata": {},
   "source": [
    "## Tip `option`\n",
    "\n",
    "Včasih imamo opravka s funkcijami, ki jih ne moremo povsod dobro definirati. Na primer, glava seznama je definirana samo za sestavljeni seznam. Če želimo, lahko naštejemo le to možnost, vendar bomo potem dobili napako ob izvajanju."
   ]
  },
  {
   "cell_type": "code",
   "execution_count": 18,
   "metadata": {},
   "outputs": [
    {
     "name": "stderr",
     "output_type": "stream",
     "text": [
      "File \"[18]\", line 1, characters 16-28:\n"
     ]
    },
    {
     "name": "stderr",
     "output_type": "stream",
     "text": [
      "1 | let slaba_glava (x :: _) = x\n"
     ]
    },
    {
     "name": "stderr",
     "output_type": "stream",
     "text": [
      "                    ^^^^^^^^^^^^\n"
     ]
    },
    {
     "name": "stderr",
     "output_type": "stream",
     "text": [
      "Warning 8: this pattern-matching is not exhaustive.\n"
     ]
    },
    {
     "name": "stderr",
     "output_type": "stream",
     "text": [
      "Here is an example of a case that is not matched:\n"
     ]
    },
    {
     "name": "stderr",
     "output_type": "stream",
     "text": [
      "[]\n"
     ]
    },
    {
     "data": {
      "text/plain": [
       "val slaba_glava : 'a list -> 'a = <fun>\n"
      ]
     },
     "execution_count": 18,
     "metadata": {},
     "output_type": "execute_result"
    }
   ],
   "source": [
    "let slaba_glava (x :: _) = x"
   ]
  },
  {
   "cell_type": "code",
   "execution_count": 19,
   "metadata": {},
   "outputs": [
    {
     "data": {
      "text/plain": [
       "- : int = 1\n"
      ]
     },
     "execution_count": 19,
     "metadata": {},
     "output_type": "execute_result"
    }
   ],
   "source": [
    "slaba_glava [1; 2; 3]"
   ]
  },
  {
   "cell_type": "code",
   "execution_count": 20,
   "metadata": {
    "tags": [
     "raises-exception"
    ]
   },
   "outputs": [
    {
     "ename": "error",
     "evalue": "runtime_error",
     "output_type": "error",
     "traceback": [
      "\u001b[31mException: Match_failure (\"[18]\", 1, 16).\nRaised at slaba_glava in file \"[18]\", line 1, characters 16-28\nCalled from Toploop.load_lambda in file \"toplevel/toploop.ml\", line 212, characters 17-27\n\u001b[0m"
     ]
    }
   ],
   "source": [
    "slaba_glava []"
   ]
  },
  {
   "cell_type": "markdown",
   "metadata": {},
   "source": [
    "Varnejši način je, da uporabimo tip `'a option`, ki predstavlja morebitno vrednost tipa `'a`:\n",
    "\n",
    "```ocaml\n",
    "type 'a option = None | Some of 'a\n",
    "```\n",
    "\n",
    "Nato bi lahko glavo seznama definirali tako, da vedno vrne vrednost:"
   ]
  },
  {
   "cell_type": "code",
   "execution_count": 21,
   "metadata": {},
   "outputs": [
    {
     "data": {
      "text/plain": [
       "val glava : 'a list -> 'a option = <fun>\n"
      ]
     },
     "execution_count": 21,
     "metadata": {},
     "output_type": "execute_result"
    }
   ],
   "source": [
    "let glava = function\n",
    "  | [] -> None\n",
    "  | x :: _ -> Some x"
   ]
  },
  {
   "cell_type": "code",
   "execution_count": 22,
   "metadata": {},
   "outputs": [
    {
     "data": {
      "text/plain": [
       "- : int option = Some 1\n"
      ]
     },
     "execution_count": 22,
     "metadata": {},
     "output_type": "execute_result"
    }
   ],
   "source": [
    "glava [1; 2; 3]"
   ]
  },
  {
   "cell_type": "code",
   "execution_count": 23,
   "metadata": {},
   "outputs": [
    {
     "data": {
      "text/plain": [
       "- : 'a option = None\n"
      ]
     },
     "execution_count": 23,
     "metadata": {},
     "output_type": "execute_result"
    }
   ],
   "source": [
    "glava []"
   ]
  },
  {
   "cell_type": "markdown",
   "metadata": {},
   "source": [
    "Če uporabimo tip `option`, nas tipi prisilijo, da obravnavamo robne primere. Na primer, prej bi lahko napisali:"
   ]
  },
  {
   "cell_type": "code",
   "execution_count": 24,
   "metadata": {},
   "outputs": [
    {
     "data": {
      "text/plain": [
       "val ali_je_slaba_glava_velika : int list -> bool = <fun>\n"
      ]
     },
     "execution_count": 24,
     "metadata": {},
     "output_type": "execute_result"
    }
   ],
   "source": [
    "let ali_je_slaba_glava_velika xs = slaba_glava xs > 100"
   ]
  },
  {
   "cell_type": "markdown",
   "metadata": {},
   "source": [
    "Če uporabimo varnejši način, pa rezultata ne moremo neposredno primerjati s `100`:"
   ]
  },
  {
   "cell_type": "code",
   "execution_count": 25,
   "metadata": {
    "tags": [
     "raises-exception"
    ]
   },
   "outputs": [
    {
     "ename": "error",
     "evalue": "compile_error",
     "output_type": "error",
     "traceback": [
      "File \"[25]\", line 1, characters 40-43:\n1 | let ali_je_glava_velika xs = glava xs > 100\n                                            ^^^\nError: This expression has type int but an expression was expected of type\n         'a option\n"
     ]
    }
   ],
   "source": [
    "let ali_je_glava_velika xs = glava xs > 100"
   ]
  },
  {
   "cell_type": "markdown",
   "metadata": {},
   "source": [
    "Tipi nas prisilijo, da obravnavamo vse primere in se odločimo, kaj naredimo, če podatka ni na voljo. Lahko bi se na primer odločili, da seznam brez glave nima velike glave:"
   ]
  },
  {
   "cell_type": "code",
   "execution_count": 26,
   "metadata": {},
   "outputs": [
    {
     "data": {
      "text/plain": [
       "val ali_je_glava_velika : int list -> bool = <fun>\n"
      ]
     },
     "execution_count": 26,
     "metadata": {},
     "output_type": "execute_result"
    }
   ],
   "source": [
    "let ali_je_glava_velika xs =\n",
    "  match glava xs with\n",
    "  | None -> false\n",
    "  | Some x -> x > 100"
   ]
  },
  {
   "cell_type": "markdown",
   "metadata": {},
   "source": [
    "Lahko bi se odločili tudi drugače, na primer da spet vrnemo morebitni odgovor, v vsakem primeru pa ne bomo pozabili na noben primer:"
   ]
  },
  {
   "cell_type": "code",
   "execution_count": 27,
   "metadata": {},
   "outputs": [
    {
     "data": {
      "text/plain": [
       "val ali_je_glava_velika : int list -> bool option = <fun>\n"
      ]
     },
     "execution_count": 27,
     "metadata": {},
     "output_type": "execute_result"
    }
   ],
   "source": [
    "let ali_je_glava_velika xs =\n",
    "  match glava xs with\n",
    "  | None -> None\n",
    "  | Some x -> Some (x > 100)"
   ]
  },
  {
   "cell_type": "markdown",
   "metadata": {},
   "source": [
    "Vsote so lahko definirane tudi rekurzivno. Takim tipom pravimo tudi _induktivni_ ali _algebrajski_ tipi. Najenostavnejši primer induktivnega tipa so naravna števila. Predstavimo jih z vsoto z dvema konstruktorjema `Nic` in `Naslednik`, pri čemer slednji sprejme en argument, ki je zopet naravno število."
   ]
  },
  {
   "cell_type": "code",
   "execution_count": 28,
   "metadata": {},
   "outputs": [
    {
     "data": {
      "text/plain": [
       "type naravno = Nic | Naslednik of naravno\n"
      ]
     },
     "execution_count": 28,
     "metadata": {},
     "output_type": "execute_result"
    }
   ],
   "source": [
    "type naravno = Nic | Naslednik of naravno"
   ]
  },
  {
   "cell_type": "markdown",
   "metadata": {},
   "source": [
    "Vsoto naravnih števil podamo z običajno rekurzivno definicijo:"
   ]
  },
  {
   "cell_type": "code",
   "execution_count": 29,
   "metadata": {},
   "outputs": [
    {
     "data": {
      "text/plain": [
       "val vsota : naravno -> naravno -> naravno = <fun>\n"
      ]
     },
     "execution_count": 29,
     "metadata": {},
     "output_type": "execute_result"
    }
   ],
   "source": [
    "let rec vsota m n =\n",
    "  match m with\n",
    "  | Nic -> n\n",
    "  | Naslednik m' -> Naslednik (vsota m' n)"
   ]
  },
  {
   "cell_type": "markdown",
   "metadata": {},
   "source": [
    "Še en že poznan primer induktivnega tipa so seznami. Vsak seznam je bodisi prazen, bodisi sestavljen iz glave in repa:"
   ]
  },
  {
   "cell_type": "code",
   "execution_count": 30,
   "metadata": {},
   "outputs": [
    {
     "data": {
      "text/plain": [
       "type 'a list = Prazen | Sestavljen of 'a * 'a list\n"
      ]
     },
     "execution_count": 30,
     "metadata": {},
     "output_type": "execute_result"
    }
   ],
   "source": [
    "type 'a list =\n",
    "  | Prazen\n",
    "  | Sestavljen of 'a * 'a list"
   ]
  },
  {
   "cell_type": "markdown",
   "metadata": {},
   "source": [
    "Sedaj tudi vidimo, zakaj `::` lahko uporabljamo v vzorcih - ni namreč običajna funkcija za sestavljanje seznamov, temveč konstruktor tipa seznamov.\n",
    "\n",
    "Induktivne tipe se pogosto uporablja za predstavitev izrazov določenega formalnega jezika. Na primer, aritmetične izraze gradimo iz števil ter aritmetičnih operacij. Take izraze bi lahko predstavili s tipom:"
   ]
  },
  {
   "cell_type": "code",
   "execution_count": 31,
   "metadata": {},
   "outputs": [
    {
     "data": {
      "text/plain": [
       "type izraz =\n",
       "    Stevilo of int\n",
       "  | Plus of izraz * izraz\n",
       "  | Minus of izraz\n",
       "  | Krat of izraz * izraz\n"
      ]
     },
     "execution_count": 31,
     "metadata": {},
     "output_type": "execute_result"
    }
   ],
   "source": [
    "type izraz =\n",
    "  | Stevilo of int\n",
    "  | Plus of izraz * izraz\n",
    "  | Minus of izraz\n",
    "  | Krat of izraz * izraz"
   ]
  },
  {
   "cell_type": "markdown",
   "metadata": {},
   "source": [
    "Na primer, izrazu $-(5 \\times (2 + 7))$ bi ustrezala vrednost"
   ]
  },
  {
   "cell_type": "code",
   "execution_count": 32,
   "metadata": {},
   "outputs": [
    {
     "data": {
      "text/plain": [
       "val i : izraz = Minus (Krat (Stevilo 5, Plus (Stevilo 2, Stevilo 7)))\n"
      ]
     },
     "execution_count": 32,
     "metadata": {},
     "output_type": "execute_result"
    }
   ],
   "source": [
    "let i = Minus (\n",
    "  Krat (Stevilo 5, Plus (Stevilo 2, Stevilo 7))\n",
    ")"
   ]
  },
  {
   "cell_type": "markdown",
   "metadata": {},
   "source": [
    "Za vajo lahko napišete rekurzivno funkcijo `izracunaj : izraz -> int`, ki dani izraz prevori v njegovo vrednost. Na primer, za zgornji izraz bi funkcija vrnila `-45`.\n",
    "\n",
    "Še en induktivni tip, ki ga bomo podrobneje spoznali v kratkem, pa so dvojiška drevesa. Dvojiško drevo je bodisi prazno bodisi ima koren, v katerem je shranjena vrednost, ter dva otroka, ki sta zopet drevesi, na primer (pri čemer praznih dreves ne kažemo):\n",
    "\n",
    "![](slike/09-iskalna-drevesa/avl-drevo.png)\n",
    "\n",
    "Tip dvojiških dreves podamo s tipom"
   ]
  },
  {
   "cell_type": "code",
   "execution_count": 33,
   "metadata": {},
   "outputs": [
    {
     "data": {
      "text/plain": [
       "type 'a drevo = Prazno | Sestavljeno of 'a drevo * 'a * 'a drevo\n"
      ]
     },
     "execution_count": 33,
     "metadata": {},
     "output_type": "execute_result"
    }
   ],
   "source": [
    "type 'a drevo =\n",
    "  | Prazno\n",
    "  | Sestavljeno of 'a drevo * 'a * 'a drevo"
   ]
  }
 ],
 "metadata": {
  "jupytext": {
   "text_representation": {
    "extension": ".md",
    "format_name": "myst",
    "format_version": 0.12,
    "jupytext_version": "1.8.0"
   }
  },
  "kernelspec": {
   "display_name": "OCaml 4.11",
   "language": "OCaml",
   "name": "ocaml-jupyter"
  },
  "language_info": {
   "codemirror_mode": "text/x-ocaml",
   "file_extension": ".ml",
   "mimetype": "text/x-ocaml",
   "name": "OCaml",
   "nbconverter_exporter": null,
   "pygments_lexer": "OCaml",
   "version": "4.11.1"
  },
  "source_map": [
   12,
   16,
   22,
   30,
   32,
   36,
   40,
   48,
   50,
   54,
   56,
   60,
   62,
   66,
   69,
   73,
   75,
   79,
   83,
   85,
   93,
   95,
   99,
   103,
   106,
   110,
   117,
   119,
   123,
   131,
   137,
   143,
   147,
   151,
   154,
   164,
   170,
   174,
   176,
   180,
   182,
   186,
   189,
   193,
   198,
   202,
   207,
   211,
   213,
   217,
   222,
   226,
   230,
   236,
   242,
   246,
   250,
   260
  ]
 },
 "nbformat": 4,
 "nbformat_minor": 4
}